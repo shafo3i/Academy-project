{
 "cells": [
  {
   "cell_type": "markdown",
   "id": "60eee22c",
   "metadata": {},
   "source": [
    "# Islamic Studies Course Content Formatting Demo\n",
    "\n",
    "This notebook demonstrates how your course content will be displayed with the improved formatting system."
   ]
  },
  {
   "cell_type": "markdown",
   "id": "b60f62f5",
   "metadata": {},
   "source": [
    "## Original Content (as provided)\n",
    "\n",
    "```\n",
    "COURSE STARTS:* 📅 *Sunday 5th October 2025* ‎ 🌟 Open to boys and girls aged 11-13 🌟 Weekly live interactive sessions over Zoom 🌟 Lessons are recorded with lifetime access 🌟 Physical Class notebook provided free of charge* 🌟 Homework/Quiz tasks set every week to tailor progress and understanding 🌟Qualified Qaaidah Nooraniyyah teacher with years of experience teaching Tajweed, Qur'an and Islamic Studies to children and teenagers in Madrassahs and privately. TOPICS COVERED:  ‎✅ *Aqeedah*- Understanding our identity, beliefs and creed as Muslims. ‎✅*Fiqh* - The fundamental rules surrounding worship that will ensure the foundations of worship are firm ‎✅ *Etiquettes & Manners* - Character and habit development in light of the Quran and Sunnah ‎✅ *Tafseer of the Qur'an* - Explanation of surahs in Juz 'Amma - the last juz of the Holy Qur'an ✅ *Stories and Examples from the Qur'an*- Deep diving into the various stories and examples Allah has given us in the Qur'an and their lessons ‎✅ *Stories of the Prophets* - A beginner look into the life of the best of Mankind ﷺ ‎✅ *Sirah* - A beginner look into the life of the best of Mankind ﷺ ✅ *Hadith* - Authentic sayings of our beloved prophet ﷺ with focus on their application in day to day life COST: 💷 £25 per month per student - (£20 per month per student for 2 or more students from the same household) fee flexibility for those who cannot afford it *physical class notebook provided for free for students based in the UK. International students will be sent the digital pdf.\n",
    "```"
   ]
  },
  {
   "cell_type": "markdown",
   "id": "38c57627",
   "metadata": {},
   "source": [
    "## Improved Formatted Version\n",
    "\n",
    "Here's how the content should be formatted for better readability:"
   ]
  },
  {
   "cell_type": "markdown",
   "id": "65b01c6f",
   "metadata": {},
   "source": [
    "**COURSE STARTS:**\n",
    "📅 **Sunday 5th October 2025**\n",
    "\n",
    "🌟 Open to boys and girls aged 11-13\n",
    "🌟 Weekly live interactive sessions over Zoom\n",
    "🌟 Lessons are recorded with lifetime access\n",
    "🌟 Physical Class notebook provided free of charge*\n",
    "🌟 Homework/Quiz tasks set every week to tailor progress and understanding\n",
    "🌟 Qualified Qaaidah Nooraniyyah teacher with years of experience teaching Tajweed, Qur'an and Islamic Studies to children and teenagers in Madrassahs and privately.\n",
    "\n",
    "**TOPICS COVERED:**\n",
    "\n",
    "✅ **Aqeedah** - Understanding our identity, beliefs and creed as Muslims.\n",
    "✅ **Fiqh** - The fundamental rules surrounding worship that will ensure the foundations of worship are firm\n",
    "✅ **Etiquettes & Manners** - Character and habit development in light of the Quran and Sunnah\n",
    "✅ **Tafseer of the Qur'an** - Explanation of surahs in Juz 'Amma - the last juz of the Holy Qur'an\n",
    "✅ **Stories and Examples from the Qur'an** - Deep diving into the various stories and examples Allah has given us in the Qur'an and their lessons\n",
    "✅ **Stories of the Prophets** - A beginner look into the life of the best of Mankind ﷺ\n",
    "✅ **Sirah** - A beginner look into the life of the best of Mankind ﷺ\n",
    "✅ **Hadith** - Authentic sayings of our beloved prophet ﷺ with focus on their application in day to day life\n",
    "\n",
    "**COST:**\n",
    "💷 £25 per month per student\n",
    "💷 £20 per month per student for 2 or more students from the same household\n",
    "💷 Fee flexibility for those who cannot afford it\n",
    "\n",
    "*Physical class notebook provided for free for students based in the UK. International students will be sent the digital PDF."
   ]
  },
  {
   "cell_type": "markdown",
   "id": "d13f79e4",
   "metadata": {},
   "source": [
    "## How the Formatting System Works\n",
    "\n",
    "The improved course page formatting system will:\n",
    "\n",
    "1. **Detect Bullet Points**: Automatically recognizes `🌟`, `✅`, `💷`, and other bullet-like characters\n",
    "2. **Proper Spacing**: Adds appropriate margins and padding between elements\n",
    "3. **Emoji Support**: Preserves and displays emojis correctly\n",
    "4. **Typography**: Uses proper font sizes, weights, and line spacing\n",
    "5. **Responsive Design**: Looks great on all devices"
   ]
  },
  {
   "cell_type": "markdown",
   "id": "6f8283c6",
   "metadata": {},
   "source": [
    "## Visual Result\n",
    "\n",
    "With the improved formatting system, your course content will display with:\n",
    "\n",
    "- ✅ **Visible bullet points** with proper alignment\n",
    "- ✅ **Consistent spacing** between sections\n",
    "- ✅ **Readable typography** with proper line heights\n",
    "- ✅ **Preserved emojis** and special characters\n",
    "- ✅ **Professional appearance** that's easy to read\n",
    "- ✅ **Mobile-friendly design** that works on all devices"
   ]
  }
 ],
 "metadata": {
  "language_info": {
   "name": "python"
  }
 },
 "nbformat": 4,
 "nbformat_minor": 5
}
